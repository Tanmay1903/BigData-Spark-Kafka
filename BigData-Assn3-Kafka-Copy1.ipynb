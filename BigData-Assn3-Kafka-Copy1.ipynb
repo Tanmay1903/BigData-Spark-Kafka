{
 "cells": [
  {
   "cell_type": "code",
   "execution_count": 6,
   "id": "5ed43246",
   "metadata": {},
   "outputs": [],
   "source": [
    "# pip uninstall kafka-python"
   ]
  },
  {
   "cell_type": "code",
   "execution_count": 2,
   "id": "d1efb428",
   "metadata": {},
   "outputs": [
    {
     "name": "stdout",
     "output_type": "stream",
     "text": [
      "Requirement already satisfied: pyspark in /Users/tanmaysingla/opt/anaconda3/lib/python3.9/site-packages (2.4.6)\n",
      "Collecting pyspark\n",
      "  Using cached pyspark-3.4.0-py2.py3-none-any.whl\n",
      "Collecting py4j==0.10.9.7\n",
      "  Using cached py4j-0.10.9.7-py2.py3-none-any.whl (200 kB)\n",
      "Installing collected packages: py4j, pyspark\n",
      "  Attempting uninstall: py4j\n",
      "    Found existing installation: py4j 0.10.7\n",
      "    Uninstalling py4j-0.10.7:\n",
      "      Successfully uninstalled py4j-0.10.7\n",
      "  Attempting uninstall: pyspark\n",
      "    Found existing installation: pyspark 2.4.6\n",
      "    Uninstalling pyspark-2.4.6:\n",
      "      Successfully uninstalled pyspark-2.4.6\n",
      "Successfully installed py4j-0.10.9.7 pyspark-3.4.0\n",
      "Note: you may need to restart the kernel to use updated packages.\n"
     ]
    }
   ],
   "source": [
    "# pip install --upgrade pyspark"
   ]
  },
  {
   "cell_type": "code",
   "execution_count": 3,
   "id": "d5b4c623",
   "metadata": {},
   "outputs": [
    {
     "ename": "ModuleNotFoundError",
     "evalue": "No module named 'pyspark.streaming.kafka'",
     "output_type": "error",
     "traceback": [
      "\u001b[0;31m---------------------------------------------------------------------------\u001b[0m",
      "\u001b[0;31mModuleNotFoundError\u001b[0m                       Traceback (most recent call last)",
      "Input \u001b[0;32mIn [3]\u001b[0m, in \u001b[0;36m<cell line: 4>\u001b[0;34m()\u001b[0m\n\u001b[1;32m      2\u001b[0m \u001b[38;5;28;01mfrom\u001b[39;00m \u001b[38;5;21;01mpyspark\u001b[39;00m\u001b[38;5;21;01m.\u001b[39;00m\u001b[38;5;21;01msql\u001b[39;00m\u001b[38;5;21;01m.\u001b[39;00m\u001b[38;5;21;01mfunctions\u001b[39;00m \u001b[38;5;28;01mimport\u001b[39;00m col\n\u001b[1;32m      3\u001b[0m \u001b[38;5;28;01mfrom\u001b[39;00m \u001b[38;5;21;01mpyspark\u001b[39;00m\u001b[38;5;21;01m.\u001b[39;00m\u001b[38;5;21;01mstreaming\u001b[39;00m \u001b[38;5;28;01mimport\u001b[39;00m StreamingContext\n\u001b[0;32m----> 4\u001b[0m \u001b[38;5;28;01mfrom\u001b[39;00m \u001b[38;5;21;01mpyspark\u001b[39;00m\u001b[38;5;21;01m.\u001b[39;00m\u001b[38;5;21;01mstreaming\u001b[39;00m\u001b[38;5;21;01m.\u001b[39;00m\u001b[38;5;21;01mkafka\u001b[39;00m \u001b[38;5;28;01mimport\u001b[39;00m KafkaUtils\n\u001b[1;32m      5\u001b[0m \u001b[38;5;28;01mimport\u001b[39;00m \u001b[38;5;21;01mpyarrow\u001b[39;00m\u001b[38;5;21;01m.\u001b[39;00m\u001b[38;5;21;01mparquet\u001b[39;00m \u001b[38;5;28;01mas\u001b[39;00m \u001b[38;5;21;01mpq\u001b[39;00m\n\u001b[1;32m      7\u001b[0m \u001b[38;5;66;03m# Initialize Spark session\u001b[39;00m\n",
      "\u001b[0;31mModuleNotFoundError\u001b[0m: No module named 'pyspark.streaming.kafka'"
     ]
    }
   ],
   "source": [
    "from pyspark.sql import SparkSession\n",
    "from pyspark.sql.functions import col\n",
    "from pyspark.streaming import StreamingContext\n",
    "from pyspark.streaming.kafka import KafkaUtils\n",
    "import pyarrow.parquet as pq\n",
    "\n",
    "# Initialize Spark session\n",
    "spark = SparkSession.builder.appName('LogProcessing').getOrCreate()\n",
    "\n",
    "# Initialize StreamingContext with batch interval of 10 seconds\n",
    "ssc = StreamingContext(spark.sparkContext, 10)\n",
    "\n",
    "# Set Kafka consumer parameters\n",
    "kafka_params = {\n",
    "    'bootstrap.servers': 'localhost:9092',\n",
    "    'group.id': 'log_consumer_group',\n",
    "    'auto.offset.reset': 'earliest'\n",
    "}\n",
    "kafka_topics = ['log_topic']\n",
    "\n",
    "# Create Kafka direct stream\n",
    "dstream = KafkaUtils.createDirectStream(ssc, kafka_topics, kafka_params)\n",
    "\n",
    "# Extract log data from Kafka messages\n",
    "log_data = dstream.map(lambda x: x[1])  # Assuming messages are in (key, value) format, extract the value\n",
    "\n",
    "# Perform transformations and EDA using Spark\n",
    "transformed_data = log_data.map(lambda x: your_transformation_function(x))  # Apply your transformation function\n",
    "\n",
    "# Convert DStream to DataFrame\n",
    "transformed_data.foreachRDD(lambda rdd: rdd.toDF().createOrReplaceTempView('temp_table'))\n",
    "\n",
    "# Write DataFrame to Parquet file\n",
    "spark.sql('SELECT * FROM temp_table').write.parquet('/path/to/parquet_file')\n",
    "\n",
    "# Store Parquet file in HDFS\n",
    "hdfs_path = 'hdfs://localhost:9000/path/to/parquet_file'\n",
    "local_path = '/path/to/parquet_file'\n",
    "pq.write_to_dataset(table=spark.table('temp_table'), root_path=hdfs_path, compression='snappy')\n",
    "\n",
    "# Start the streaming context\n",
    "ssc.start()\n",
    "ssc.awaitTermination()\n"
   ]
  },
  {
   "cell_type": "code",
   "execution_count": null,
   "id": "7ab1c7ac",
   "metadata": {},
   "outputs": [],
   "source": []
  }
 ],
 "metadata": {
  "kernelspec": {
   "display_name": "Python 3 (ipykernel)",
   "language": "python",
   "name": "python3"
  },
  "language_info": {
   "codemirror_mode": {
    "name": "ipython",
    "version": 3
   },
   "file_extension": ".py",
   "mimetype": "text/x-python",
   "name": "python",
   "nbconvert_exporter": "python",
   "pygments_lexer": "ipython3",
   "version": "3.9.12"
  }
 },
 "nbformat": 4,
 "nbformat_minor": 5
}
